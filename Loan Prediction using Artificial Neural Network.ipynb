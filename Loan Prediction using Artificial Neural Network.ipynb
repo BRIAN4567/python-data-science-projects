{
 "cells": [
  {
   "cell_type": "code",
   "execution_count": 107,
   "metadata": {},
   "outputs": [],
   "source": [
    "#Importing the libraries\n",
    "\n",
    "import numpy as np\n",
    "import pandas as pd\n",
    "import tensorflow as tf"
   ]
  },
  {
   "cell_type": "code",
   "execution_count": 108,
   "metadata": {},
   "outputs": [
    {
     "data": {
      "text/plain": [
       "'2.4.1'"
      ]
     },
     "execution_count": 108,
     "metadata": {},
     "output_type": "execute_result"
    }
   ],
   "source": [
    "tf.__version__"
   ]
  },
  {
   "cell_type": "code",
   "execution_count": 109,
   "metadata": {},
   "outputs": [
    {
     "data": {
      "text/plain": [
       "(614, 13)"
      ]
     },
     "execution_count": 109,
     "metadata": {},
     "output_type": "execute_result"
    }
   ],
   "source": [
    "data = pd.read_csv('loantrain.csv')\n",
    "data.shape"
   ]
  },
  {
   "cell_type": "code",
   "execution_count": 110,
   "metadata": {},
   "outputs": [
    {
     "data": {
      "text/html": [
       "<div>\n",
       "<style scoped>\n",
       "    .dataframe tbody tr th:only-of-type {\n",
       "        vertical-align: middle;\n",
       "    }\n",
       "\n",
       "    .dataframe tbody tr th {\n",
       "        vertical-align: top;\n",
       "    }\n",
       "\n",
       "    .dataframe thead th {\n",
       "        text-align: right;\n",
       "    }\n",
       "</style>\n",
       "<table border=\"1\" class=\"dataframe\">\n",
       "  <thead>\n",
       "    <tr style=\"text-align: right;\">\n",
       "      <th></th>\n",
       "      <th>Loan_ID</th>\n",
       "      <th>Gender</th>\n",
       "      <th>Married</th>\n",
       "      <th>Dependents</th>\n",
       "      <th>Education</th>\n",
       "      <th>Self_Employed</th>\n",
       "      <th>ApplicantIncome</th>\n",
       "      <th>CoapplicantIncome</th>\n",
       "      <th>LoanAmount</th>\n",
       "      <th>Loan_Amount_Term</th>\n",
       "      <th>Credit_History</th>\n",
       "      <th>Property_Area</th>\n",
       "      <th>Loan_Status</th>\n",
       "    </tr>\n",
       "  </thead>\n",
       "  <tbody>\n",
       "    <tr>\n",
       "      <th>0</th>\n",
       "      <td>LP001002</td>\n",
       "      <td>Male</td>\n",
       "      <td>No</td>\n",
       "      <td>0</td>\n",
       "      <td>Graduate</td>\n",
       "      <td>No</td>\n",
       "      <td>5849</td>\n",
       "      <td>0.0</td>\n",
       "      <td>NaN</td>\n",
       "      <td>360.0</td>\n",
       "      <td>1.0</td>\n",
       "      <td>Urban</td>\n",
       "      <td>Y</td>\n",
       "    </tr>\n",
       "    <tr>\n",
       "      <th>1</th>\n",
       "      <td>LP001003</td>\n",
       "      <td>Male</td>\n",
       "      <td>Yes</td>\n",
       "      <td>1</td>\n",
       "      <td>Graduate</td>\n",
       "      <td>No</td>\n",
       "      <td>4583</td>\n",
       "      <td>1508.0</td>\n",
       "      <td>128.0</td>\n",
       "      <td>360.0</td>\n",
       "      <td>1.0</td>\n",
       "      <td>Rural</td>\n",
       "      <td>N</td>\n",
       "    </tr>\n",
       "    <tr>\n",
       "      <th>2</th>\n",
       "      <td>LP001005</td>\n",
       "      <td>Male</td>\n",
       "      <td>Yes</td>\n",
       "      <td>0</td>\n",
       "      <td>Graduate</td>\n",
       "      <td>Yes</td>\n",
       "      <td>3000</td>\n",
       "      <td>0.0</td>\n",
       "      <td>66.0</td>\n",
       "      <td>360.0</td>\n",
       "      <td>1.0</td>\n",
       "      <td>Urban</td>\n",
       "      <td>Y</td>\n",
       "    </tr>\n",
       "    <tr>\n",
       "      <th>3</th>\n",
       "      <td>LP001006</td>\n",
       "      <td>Male</td>\n",
       "      <td>Yes</td>\n",
       "      <td>0</td>\n",
       "      <td>Not Graduate</td>\n",
       "      <td>No</td>\n",
       "      <td>2583</td>\n",
       "      <td>2358.0</td>\n",
       "      <td>120.0</td>\n",
       "      <td>360.0</td>\n",
       "      <td>1.0</td>\n",
       "      <td>Urban</td>\n",
       "      <td>Y</td>\n",
       "    </tr>\n",
       "    <tr>\n",
       "      <th>4</th>\n",
       "      <td>LP001008</td>\n",
       "      <td>Male</td>\n",
       "      <td>No</td>\n",
       "      <td>0</td>\n",
       "      <td>Graduate</td>\n",
       "      <td>No</td>\n",
       "      <td>6000</td>\n",
       "      <td>0.0</td>\n",
       "      <td>141.0</td>\n",
       "      <td>360.0</td>\n",
       "      <td>1.0</td>\n",
       "      <td>Urban</td>\n",
       "      <td>Y</td>\n",
       "    </tr>\n",
       "  </tbody>\n",
       "</table>\n",
       "</div>"
      ],
      "text/plain": [
       "    Loan_ID Gender Married Dependents     Education Self_Employed  \\\n",
       "0  LP001002   Male      No          0      Graduate            No   \n",
       "1  LP001003   Male     Yes          1      Graduate            No   \n",
       "2  LP001005   Male     Yes          0      Graduate           Yes   \n",
       "3  LP001006   Male     Yes          0  Not Graduate            No   \n",
       "4  LP001008   Male      No          0      Graduate            No   \n",
       "\n",
       "   ApplicantIncome  CoapplicantIncome  LoanAmount  Loan_Amount_Term  \\\n",
       "0             5849                0.0         NaN             360.0   \n",
       "1             4583             1508.0       128.0             360.0   \n",
       "2             3000                0.0        66.0             360.0   \n",
       "3             2583             2358.0       120.0             360.0   \n",
       "4             6000                0.0       141.0             360.0   \n",
       "\n",
       "   Credit_History Property_Area Loan_Status  \n",
       "0             1.0         Urban           Y  \n",
       "1             1.0         Rural           N  \n",
       "2             1.0         Urban           Y  \n",
       "3             1.0         Urban           Y  \n",
       "4             1.0         Urban           Y  "
      ]
     },
     "execution_count": 110,
     "metadata": {},
     "output_type": "execute_result"
    }
   ],
   "source": [
    "# let's check the head of the dataset\n",
    "data.head()"
   ]
  },
  {
   "cell_type": "markdown",
   "metadata": {},
   "source": [
    "# Data preprocessing"
   ]
  },
  {
   "cell_type": "code",
   "execution_count": 111,
   "metadata": {},
   "outputs": [
    {
     "data": {
      "text/plain": [
       "Loan_ID               0\n",
       "Gender               13\n",
       "Married               3\n",
       "Dependents           15\n",
       "Education             0\n",
       "Self_Employed        32\n",
       "ApplicantIncome       0\n",
       "CoapplicantIncome     0\n",
       "LoanAmount           22\n",
       "Loan_Amount_Term     14\n",
       "Credit_History       50\n",
       "Property_Area         0\n",
       "Loan_Status           0\n",
       "dtype: int64"
      ]
     },
     "execution_count": 111,
     "metadata": {},
     "output_type": "execute_result"
    }
   ],
   "source": [
    "#checking for missing values¶\n",
    "\n",
    "data.isnull().sum()"
   ]
  },
  {
   "cell_type": "code",
   "execution_count": 112,
   "metadata": {},
   "outputs": [],
   "source": [
    "# imputing missing values\n",
    "# imputing missing values\n",
    "data['LoanAmount']=data['LoanAmount'].fillna(data['LoanAmount'].mean())\n",
    "data['Credit_History']=data['Credit_History'].fillna(data['Credit_History'].median())\n",
    "data.dropna(inplace=True)"
   ]
  },
  {
   "cell_type": "code",
   "execution_count": 113,
   "metadata": {},
   "outputs": [
    {
     "data": {
      "text/plain": [
       "0"
      ]
     },
     "execution_count": 113,
     "metadata": {},
     "output_type": "execute_result"
    }
   ],
   "source": [
    "data.isnull().sum().sum()"
   ]
  },
  {
   "cell_type": "code",
   "execution_count": 114,
   "metadata": {},
   "outputs": [],
   "source": [
    "# splitting the dependent and independent variables\n",
    "X = data.iloc[: , 1:-1].values\n",
    "Y = data.iloc[: ,-1].values"
   ]
  },
  {
   "cell_type": "code",
   "execution_count": 115,
   "metadata": {},
   "outputs": [
    {
     "name": "stdout",
     "output_type": "stream",
     "text": [
      "[['Male' 'No' '0' ... 360.0 1.0 'Urban']\n",
      " ['Male' 'Yes' '1' ... 360.0 1.0 'Rural']\n",
      " ['Male' 'Yes' '0' ... 360.0 1.0 'Urban']\n",
      " ...\n",
      " ['Male' 'Yes' '1' ... 360.0 1.0 'Urban']\n",
      " ['Male' 'Yes' '2' ... 360.0 1.0 'Urban']\n",
      " ['Female' 'No' '0' ... 360.0 0.0 'Semiurban']]\n",
      "['Y' 'N' 'Y' 'Y' 'Y' 'Y' 'Y' 'N' 'Y' 'N' 'Y' 'Y' 'N' 'Y' 'Y' 'Y' 'N' 'N'\n",
      " 'N' 'Y' 'N' 'Y' 'Y' 'Y' 'N' 'N' 'N' 'Y' 'N' 'Y' 'Y' 'Y' 'Y' 'N' 'Y' 'Y'\n",
      " 'Y' 'Y' 'Y' 'N' 'Y' 'Y' 'Y' 'N' 'N' 'N' 'Y' 'Y' 'N' 'Y' 'Y' 'Y' 'Y' 'N'\n",
      " 'N' 'N' 'N' 'N' 'Y' 'Y' 'N' 'Y' 'Y' 'Y' 'Y' 'N' 'N' 'N' 'N' 'Y' 'Y' 'Y'\n",
      " 'N' 'N' 'Y' 'Y' 'Y' 'Y' 'Y' 'Y' 'Y' 'Y' 'Y' 'Y' 'Y' 'Y' 'Y' 'Y' 'Y' 'Y'\n",
      " 'Y' 'Y' 'Y' 'Y' 'N' 'Y' 'Y' 'Y' 'Y' 'Y' 'Y' 'N' 'Y' 'Y' 'Y' 'Y' 'Y' 'Y'\n",
      " 'Y' 'N' 'N' 'Y' 'Y' 'Y' 'Y' 'Y' 'N' 'N' 'Y' 'N' 'N' 'N' 'Y' 'Y' 'Y' 'Y'\n",
      " 'Y' 'Y' 'Y' 'N' 'Y' 'N' 'Y' 'N' 'N' 'Y' 'Y' 'Y' 'Y' 'Y' 'Y' 'N' 'N' 'Y'\n",
      " 'Y' 'N' 'Y' 'N' 'Y' 'N' 'Y' 'N' 'Y' 'Y' 'N' 'Y' 'N' 'N' 'N' 'Y' 'N' 'Y'\n",
      " 'Y' 'N' 'Y' 'Y' 'Y' 'N' 'N' 'Y' 'Y' 'N' 'Y' 'Y' 'N' 'Y' 'Y' 'N' 'Y' 'Y'\n",
      " 'Y' 'Y' 'Y' 'Y' 'N' 'N' 'N' 'Y' 'Y' 'Y' 'Y' 'N' 'Y' 'Y' 'N' 'Y' 'Y' 'Y'\n",
      " 'N' 'Y' 'Y' 'Y' 'Y' 'Y' 'Y' 'Y' 'Y' 'Y' 'Y' 'N' 'Y' 'Y' 'Y' 'N' 'Y' 'Y'\n",
      " 'Y' 'Y' 'N' 'N' 'Y' 'Y' 'N' 'Y' 'N' 'N' 'N' 'N' 'Y' 'Y' 'N' 'Y' 'Y' 'Y'\n",
      " 'Y' 'Y' 'Y' 'Y' 'Y' 'Y' 'Y' 'Y' 'Y' 'Y' 'Y' 'Y' 'Y' 'N' 'Y' 'Y' 'Y' 'N'\n",
      " 'Y' 'N' 'Y' 'Y' 'Y' 'Y' 'N' 'Y' 'Y' 'Y' 'Y' 'N' 'N' 'N' 'Y' 'Y' 'Y' 'N'\n",
      " 'Y' 'N' 'N' 'Y' 'Y' 'Y' 'Y' 'Y' 'Y' 'Y' 'Y' 'Y' 'N' 'Y' 'Y' 'Y' 'Y' 'Y'\n",
      " 'N' 'Y' 'Y' 'N' 'Y' 'Y' 'Y' 'Y' 'N' 'Y' 'N' 'N' 'Y' 'Y' 'Y' 'Y' 'Y' 'Y'\n",
      " 'Y' 'N' 'Y' 'N' 'Y' 'Y' 'N' 'N' 'Y' 'N' 'Y' 'Y' 'Y' 'Y' 'N' 'N' 'Y' 'N'\n",
      " 'Y' 'Y' 'Y' 'N' 'Y' 'Y' 'Y' 'N' 'Y' 'Y' 'Y' 'Y' 'N' 'Y' 'N' 'Y' 'Y' 'Y'\n",
      " 'Y' 'Y' 'Y' 'Y' 'Y' 'N' 'Y' 'Y' 'N' 'N' 'N' 'Y' 'Y' 'N' 'Y' 'Y' 'Y' 'N'\n",
      " 'N' 'N' 'N' 'Y' 'N' 'Y' 'N' 'N' 'Y' 'Y' 'Y' 'Y' 'Y' 'Y' 'N' 'Y' 'Y' 'Y'\n",
      " 'Y' 'N' 'Y' 'Y' 'Y' 'Y' 'N' 'Y' 'Y' 'Y' 'Y' 'Y' 'Y' 'Y' 'Y' 'N' 'N' 'N'\n",
      " 'Y' 'N' 'Y' 'Y' 'Y' 'Y' 'N' 'Y' 'N' 'Y' 'Y' 'N' 'Y' 'N' 'N' 'Y' 'N' 'Y'\n",
      " 'Y' 'Y' 'Y' 'Y' 'Y' 'N' 'Y' 'Y' 'Y' 'Y' 'Y' 'Y' 'N' 'N' 'Y' 'N' 'Y' 'Y'\n",
      " 'Y' 'Y' 'N' 'Y' 'Y' 'Y' 'Y' 'N' 'Y' 'Y' 'Y' 'N' 'Y' 'Y' 'Y' 'Y' 'Y' 'N'\n",
      " 'Y' 'Y' 'N' 'N' 'Y' 'Y' 'N' 'N' 'Y' 'Y' 'Y' 'Y' 'N' 'Y' 'Y' 'Y' 'Y' 'Y'\n",
      " 'Y' 'Y' 'N' 'N' 'Y' 'Y' 'Y' 'N' 'Y' 'Y' 'N' 'Y' 'Y' 'Y' 'N' 'Y' 'N' 'Y'\n",
      " 'N' 'Y' 'Y' 'N' 'N' 'Y' 'Y' 'Y' 'Y' 'Y' 'Y' 'Y' 'Y' 'Y' 'N' 'Y' 'Y' 'N'\n",
      " 'N' 'N' 'Y' 'Y' 'N' 'N' 'Y' 'Y' 'Y' 'Y' 'N' 'Y' 'N' 'N' 'N' 'Y' 'Y' 'N'\n",
      " 'Y' 'N' 'Y' 'Y' 'Y' 'N' 'Y' 'Y' 'Y' 'Y' 'Y' 'N' 'Y' 'Y' 'Y' 'Y' 'Y' 'Y'\n",
      " 'Y' 'N']\n"
     ]
    }
   ],
   "source": [
    "print(X)\n",
    "print(Y)"
   ]
  },
  {
   "cell_type": "code",
   "execution_count": 116,
   "metadata": {},
   "outputs": [
    {
     "name": "stdout",
     "output_type": "stream",
     "text": [
      "[1 0 1 1 1 1 1 0 1 0 1 1 0 1 1 1 0 0 0 1 0 1 1 1 0 0 0 1 0 1 1 1 1 0 1 1 1\n",
      " 1 1 0 1 1 1 0 0 0 1 1 0 1 1 1 1 0 0 0 0 0 1 1 0 1 1 1 1 0 0 0 0 1 1 1 0 0\n",
      " 1 1 1 1 1 1 1 1 1 1 1 1 1 1 1 1 1 1 1 1 0 1 1 1 1 1 1 0 1 1 1 1 1 1 1 0 0\n",
      " 1 1 1 1 1 0 0 1 0 0 0 1 1 1 1 1 1 1 0 1 0 1 0 0 1 1 1 1 1 1 0 0 1 1 0 1 0\n",
      " 1 0 1 0 1 1 0 1 0 0 0 1 0 1 1 0 1 1 1 0 0 1 1 0 1 1 0 1 1 0 1 1 1 1 1 1 0\n",
      " 0 0 1 1 1 1 0 1 1 0 1 1 1 0 1 1 1 1 1 1 1 1 1 1 0 1 1 1 0 1 1 1 1 0 0 1 1\n",
      " 0 1 0 0 0 0 1 1 0 1 1 1 1 1 1 1 1 1 1 1 1 1 1 1 1 0 1 1 1 0 1 0 1 1 1 1 0\n",
      " 1 1 1 1 0 0 0 1 1 1 0 1 0 0 1 1 1 1 1 1 1 1 1 0 1 1 1 1 1 0 1 1 0 1 1 1 1\n",
      " 0 1 0 0 1 1 1 1 1 1 1 0 1 0 1 1 0 0 1 0 1 1 1 1 0 0 1 0 1 1 1 0 1 1 1 0 1\n",
      " 1 1 1 0 1 0 1 1 1 1 1 1 1 1 0 1 1 0 0 0 1 1 0 1 1 1 0 0 0 0 1 0 1 0 0 1 1\n",
      " 1 1 1 1 0 1 1 1 1 0 1 1 1 1 0 1 1 1 1 1 1 1 1 0 0 0 1 0 1 1 1 1 0 1 0 1 1\n",
      " 0 1 0 0 1 0 1 1 1 1 1 1 0 1 1 1 1 1 1 0 0 1 0 1 1 1 1 0 1 1 1 1 0 1 1 1 0\n",
      " 1 1 1 1 1 0 1 1 0 0 1 1 0 0 1 1 1 1 0 1 1 1 1 1 1 1 0 0 1 1 1 0 1 1 0 1 1\n",
      " 1 0 1 0 1 0 1 1 0 0 1 1 1 1 1 1 1 1 1 0 1 1 0 0 0 1 1 0 0 1 1 1 1 0 1 0 0\n",
      " 0 1 1 0 1 0 1 1 1 0 1 1 1 1 1 0 1 1 1 1 1 1 1 0]\n"
     ]
    }
   ],
   "source": [
    "Y = np.where(Y=='Y',1,Y)\n",
    "Y = np.where(Y=='N',0,Y)\n",
    "print(Y)"
   ]
  },
  {
   "cell_type": "code",
   "execution_count": 117,
   "metadata": {},
   "outputs": [
    {
     "data": {
      "text/plain": [
       "dtype('int32')"
      ]
     },
     "execution_count": 117,
     "metadata": {},
     "output_type": "execute_result"
    }
   ],
   "source": [
    "Y = Y.astype('int')\n",
    "Y.dtype"
   ]
  },
  {
   "cell_type": "code",
   "execution_count": 118,
   "metadata": {},
   "outputs": [
    {
     "data": {
      "text/plain": [
       "array(['0', '1', '0', '0', '0', '2', '0', 3, '2', '1', '2', '2', '0', '2',\n",
       "       '0', '1', '0', '0', '0', '1', '0', '0', '0', '2', '0', '0', '1',\n",
       "       '0', 3, '0', '0', '0', '0', '0', '0', '0', '0', '1', '0', '0', '0',\n",
       "       '0', '0', '0', '2', '1', '2', '0', '0', '1', '2', '0', 3, '0', '1',\n",
       "       '0', '0', '0', '1', 3, '0', '0', '2', '0', 3, '0', '0', '1', 3, 3,\n",
       "       '0', '1', '2', '0', '1', '0', '2', '0', '0', '0', '0', '2', '2',\n",
       "       '0', '0', '0', '0', '0', '0', '2', '0', '0', '1', '2', '2', 3, '0',\n",
       "       '1', '1', '0', '1', '0', '0', '0', '0', '2', '0', '0', '0', '1',\n",
       "       '0', '0', '0', '0', '0', '0', 3, '0', '2', '0', '2', '2', '0', '0',\n",
       "       '0', '2', '0', '2', '1', '0', '0', '0', '0', '0', '2', '0', 3, '1',\n",
       "       '1', '0', '0', '0', '1', '2', '0', '0', '0', '0', '2', 3, '0', '0',\n",
       "       '0', '2', 3, '1', '0', '1', '0', '0', '1', '0', '0', '1', '0', '0',\n",
       "       '0', '0', '0', '0', '0', '1', '0', '0', '0', '1', '2', 3, '1', '2',\n",
       "       '0', '0', '0', '0', '0', '0', 3, '1', 3, '0', 3, '0', '0', '2',\n",
       "       '0', '2', '0', '0', '0', '2', '0', '1', '0', '1', '1', '0', '1',\n",
       "       '1', '2', '1', '0', '2', '0', '0', '2', '1', '1', '0', '0', '2',\n",
       "       '0', '1', '0', 3, '0', 3, '0', 3, '1', '0', '1', '0', '0', '0',\n",
       "       '2', 3, '1', '0', '0', '0', '0', '2', '1', '0', '0', '0', '0', '1',\n",
       "       '0', '2', '0', '0', '0', '0', '0', '0', '0', '0', '2', '2', '0',\n",
       "       '1', '1', '0', '1', '0', '0', '1', '0', '0', '0', '0', '0', '2',\n",
       "       '0', '0', '0', '2', '1', '2', '0', '1', '1', '0', 3, '2', '0', 3,\n",
       "       '1', '0', '0', '0', '0', '1', '0', '2', 3, '0', 3, '0', '1', 3,\n",
       "       '0', '2', '0', '0', '0', '0', 3, '0', '0', '2', '1', '0', 3, '1',\n",
       "       '2', '0', '0', '0', '0', '0', '1', '0', '0', '2', '2', '1', '0', 3,\n",
       "       '0', '0', '2', '0', '0', '0', '2', '0', '0', '0', '0', 3, 3, '0',\n",
       "       '2', '2', '2', '0', '0', '0', '0', '2', '0', '0', '0', '0', '0',\n",
       "       '0', '0', '1', 3, '1', '0', '0', '0', '0', '1', '2', '0', '0', '0',\n",
       "       '0', '0', '0', '1', '2', '0', '0', '1', '0', '0', '0', '0', '0',\n",
       "       '0', '0', '0', '0', 3, '1', '0', '1', '2', '2', '1', '2', '2', '0',\n",
       "       '0', '0', '2', '0', '0', '2', '0', 3, '0', '0', '0', 3, '0', '1',\n",
       "       '1', 3, '0', '2', '2', '2', '1', '2', '0', 3, '0', '0', '2', '1',\n",
       "       '2', '1', '2', '0', '0', '1', '0', '0', '0', '1', '0', '0', '1',\n",
       "       '0', '0', '0', '2', '1', '0', '2', '0', '0', '1', '0', '1', '2',\n",
       "       '0', '0', 3, '2', '0', '0', '2', '0', 3, '2', '0', '2', '0', '1',\n",
       "       '1', '0', '0', 3, '2', '1', '0', '0', '2', '0', 3, '1', '0', '1',\n",
       "       '0', '0', '0', '0', '0', '0', '2', '1', '1', '0', '0', '1', '0', 3,\n",
       "       '0', '0', '2', '1', '0', '0', '2', '0', '0', 3, '0', '0', '1', '2',\n",
       "       '2', 3, '2', '0', '1', '2', '0', '0', '1', '1', '1', '0', '0', '2',\n",
       "       '0', '2', '0', '0', '0', '2', '0', '2', 3, '0', '1', '0', '1', '2',\n",
       "       '0', '0', 3, '1', '2', '0'], dtype=object)"
      ]
     },
     "execution_count": 118,
     "metadata": {},
     "output_type": "execute_result"
    }
   ],
   "source": [
    "X[: ,2] = np.where(X[:, 2]=='3+',3,X[: ,2])\n",
    "X[:, 2]"
   ]
  },
  {
   "cell_type": "markdown",
   "metadata": {},
   "source": [
    "# Encoding categorical data\n"
   ]
  },
  {
   "cell_type": "code",
   "execution_count": 119,
   "metadata": {},
   "outputs": [],
   "source": [
    "from sklearn.preprocessing import LabelEncoder\n",
    "le = LabelEncoder()\n",
    "X[:, 0] = le.fit_transform(X[:, 0])\n",
    "X[:, 1] = le.fit_transform(X[:, 1])\n",
    "X[:, 3] = le.fit_transform(X[:, 3])\n",
    "X[:, 4] = le.fit_transform(X[:, 4])"
   ]
  },
  {
   "cell_type": "code",
   "execution_count": 120,
   "metadata": {},
   "outputs": [],
   "source": [
    "from sklearn.compose import ColumnTransformer\n",
    "from sklearn.preprocessing import OneHotEncoder\n",
    "ct = ColumnTransformer(transformers=[('encoder', OneHotEncoder(), [10])], remainder='passthrough')\n",
    "X = np.array(ct.fit_transform(X))"
   ]
  },
  {
   "cell_type": "code",
   "execution_count": 121,
   "metadata": {},
   "outputs": [
    {
     "data": {
      "text/plain": [
       "dtype('int32')"
      ]
     },
     "execution_count": 121,
     "metadata": {},
     "output_type": "execute_result"
    }
   ],
   "source": [
    "X = X.astype('int')\n",
    "X.dtype"
   ]
  },
  {
   "cell_type": "code",
   "execution_count": 122,
   "metadata": {},
   "outputs": [],
   "source": [
    "from sklearn.model_selection import train_test_split\n",
    "X_train, X_test, y_train, y_test = train_test_split(X, Y, test_size = 0.2, random_state = 0)"
   ]
  },
  {
   "cell_type": "code",
   "execution_count": 123,
   "metadata": {},
   "outputs": [],
   "source": [
    "#Feature Scaling\n",
    "from sklearn.preprocessing import StandardScaler\n",
    "sc = StandardScaler()\n",
    "X_train = sc.fit_transform(X_train)\n",
    "X_test = sc.transform(X_test)"
   ]
  },
  {
   "cell_type": "markdown",
   "metadata": {},
   "source": [
    "# Building the ANN"
   ]
  },
  {
   "cell_type": "code",
   "execution_count": 124,
   "metadata": {},
   "outputs": [],
   "source": [
    "# Initializing ANN\n",
    "ann = tf.keras.models.Sequential()"
   ]
  },
  {
   "cell_type": "code",
   "execution_count": 125,
   "metadata": {},
   "outputs": [],
   "source": [
    "# adding input and first hidden layer\n",
    "ann.add(tf.keras.layers.Dense(units=8, activation='relu'))"
   ]
  },
  {
   "cell_type": "code",
   "execution_count": 126,
   "metadata": {},
   "outputs": [],
   "source": [
    "# adding second hidden layer\n",
    "ann.add(tf.keras.layers.Dense(units=6, activation='relu'))"
   ]
  },
  {
   "cell_type": "code",
   "execution_count": 127,
   "metadata": {},
   "outputs": [],
   "source": [
    "# adding third hidden layer\n",
    "ann.add(tf.keras.layers.Dense(units=6, activation='relu'))"
   ]
  },
  {
   "cell_type": "code",
   "execution_count": 128,
   "metadata": {},
   "outputs": [],
   "source": [
    "# adding output layer\n",
    "ann.add(tf.keras.layers.Dense(units=1, activation='sigmoid'))"
   ]
  },
  {
   "cell_type": "code",
   "execution_count": 129,
   "metadata": {},
   "outputs": [],
   "source": [
    "# compiling ANN\n",
    "ann.compile(optimizer = 'adam', loss = 'binary_crossentropy', metrics = ['accuracy'])"
   ]
  },
  {
   "cell_type": "code",
   "execution_count": 130,
   "metadata": {},
   "outputs": [
    {
     "name": "stdout",
     "output_type": "stream",
     "text": [
      "Epoch 1/150\n",
      "14/14 [==============================] - 8s 2ms/step - loss: 0.6167 - accuracy: 0.7198\n",
      "Epoch 2/150\n",
      "14/14 [==============================] - 0s 3ms/step - loss: 0.6297 - accuracy: 0.6748\n",
      "Epoch 3/150\n",
      "14/14 [==============================] - 0s 2ms/step - loss: 0.6017 - accuracy: 0.7001\n",
      "Epoch 4/150\n",
      "14/14 [==============================] - 0s 3ms/step - loss: 0.5739 - accuracy: 0.7261\n",
      "Epoch 5/150\n",
      "14/14 [==============================] - ETA: 0s - loss: 0.5733 - accuracy: 0.71 - 0s 2ms/step - loss: 0.5848 - accuracy: 0.6901\n",
      "Epoch 6/150\n",
      "14/14 [==============================] - 0s 2ms/step - loss: 0.5816 - accuracy: 0.7023\n",
      "Epoch 7/150\n",
      "14/14 [==============================] - 0s 3ms/step - loss: 0.5636 - accuracy: 0.7161\n",
      "Epoch 8/150\n",
      "14/14 [==============================] - 0s 2ms/step - loss: 0.5705 - accuracy: 0.6959\n",
      "Epoch 9/150\n",
      "14/14 [==============================] - 0s 3ms/step - loss: 0.5752 - accuracy: 0.6684\n",
      "Epoch 10/150\n",
      "14/14 [==============================] - 0s 2ms/step - loss: 0.5940 - accuracy: 0.6837\n",
      "Epoch 11/150\n",
      "14/14 [==============================] - 0s 4ms/step - loss: 0.5754 - accuracy: 0.6939\n",
      "Epoch 12/150\n",
      "14/14 [==============================] - 0s 2ms/step - loss: 0.5472 - accuracy: 0.7242\n",
      "Epoch 13/150\n",
      "14/14 [==============================] - 0s 3ms/step - loss: 0.5895 - accuracy: 0.6783\n",
      "Epoch 14/150\n",
      "14/14 [==============================] - 0s 3ms/step - loss: 0.5692 - accuracy: 0.7001\n",
      "Epoch 15/150\n",
      "14/14 [==============================] - ETA: 0s - loss: 0.5707 - accuracy: 0.71 - 0s 2ms/step - loss: 0.5754 - accuracy: 0.6976\n",
      "Epoch 16/150\n",
      "14/14 [==============================] - 0s 3ms/step - loss: 0.5655 - accuracy: 0.7074\n",
      "Epoch 17/150\n",
      "14/14 [==============================] - 0s 2ms/step - loss: 0.5877 - accuracy: 0.6728\n",
      "Epoch 18/150\n",
      "14/14 [==============================] - 0s 2ms/step - loss: 0.5416 - accuracy: 0.7326\n",
      "Epoch 19/150\n",
      "14/14 [==============================] - 0s 3ms/step - loss: 0.5339 - accuracy: 0.7433\n",
      "Epoch 20/150\n",
      "14/14 [==============================] - 0s 3ms/step - loss: 0.5260 - accuracy: 0.7386\n",
      "Epoch 21/150\n",
      "14/14 [==============================] - 0s 2ms/step - loss: 0.5233 - accuracy: 0.7369\n",
      "Epoch 22/150\n",
      "14/14 [==============================] - 0s 2ms/step - loss: 0.5276 - accuracy: 0.7576\n",
      "Epoch 23/150\n",
      "14/14 [==============================] - 0s 2ms/step - loss: 0.5551 - accuracy: 0.7133\n",
      "Epoch 24/150\n",
      "14/14 [==============================] - 0s 2ms/step - loss: 0.5204 - accuracy: 0.7388\n",
      "Epoch 25/150\n",
      "14/14 [==============================] - 0s 2ms/step - loss: 0.5167 - accuracy: 0.7656\n",
      "Epoch 26/150\n",
      "14/14 [==============================] - 0s 2ms/step - loss: 0.5180 - accuracy: 0.7619\n",
      "Epoch 27/150\n",
      "14/14 [==============================] - 0s 2ms/step - loss: 0.5261 - accuracy: 0.7606\n",
      "Epoch 28/150\n",
      "14/14 [==============================] - 0s 3ms/step - loss: 0.5086 - accuracy: 0.7855\n",
      "Epoch 29/150\n",
      "14/14 [==============================] - 0s 2ms/step - loss: 0.5481 - accuracy: 0.7528\n",
      "Epoch 30/150\n",
      "14/14 [==============================] - 0s 2ms/step - loss: 0.5112 - accuracy: 0.7833\n",
      "Epoch 31/150\n",
      "14/14 [==============================] - 0s 2ms/step - loss: 0.5052 - accuracy: 0.7787\n",
      "Epoch 32/150\n",
      "14/14 [==============================] - 0s 3ms/step - loss: 0.5175 - accuracy: 0.7663\n",
      "Epoch 33/150\n",
      "14/14 [==============================] - 0s 3ms/step - loss: 0.4977 - accuracy: 0.7893\n",
      "Epoch 34/150\n",
      "14/14 [==============================] - 0s 3ms/step - loss: 0.4729 - accuracy: 0.7999\n",
      "Epoch 35/150\n",
      "14/14 [==============================] - 0s 2ms/step - loss: 0.5046 - accuracy: 0.7969\n",
      "Epoch 36/150\n",
      "14/14 [==============================] - 0s 2ms/step - loss: 0.5309 - accuracy: 0.7632\n",
      "Epoch 37/150\n",
      "14/14 [==============================] - 0s 2ms/step - loss: 0.4794 - accuracy: 0.8055\n",
      "Epoch 38/150\n",
      "14/14 [==============================] - 0s 2ms/step - loss: 0.4842 - accuracy: 0.8052\n",
      "Epoch 39/150\n",
      "14/14 [==============================] - 0s 2ms/step - loss: 0.4715 - accuracy: 0.8285\n",
      "Epoch 40/150\n",
      "14/14 [==============================] - 0s 3ms/step - loss: 0.5046 - accuracy: 0.7939\n",
      "Epoch 41/150\n",
      "14/14 [==============================] - 0s 2ms/step - loss: 0.4701 - accuracy: 0.8151\n",
      "Epoch 42/150\n",
      "14/14 [==============================] - 0s 2ms/step - loss: 0.4975 - accuracy: 0.7853\n",
      "Epoch 43/150\n",
      "14/14 [==============================] - 0s 2ms/step - loss: 0.4489 - accuracy: 0.8247\n",
      "Epoch 44/150\n",
      "14/14 [==============================] - 0s 2ms/step - loss: 0.4933 - accuracy: 0.7933\n",
      "Epoch 45/150\n",
      "14/14 [==============================] - 0s 2ms/step - loss: 0.4851 - accuracy: 0.8050\n",
      "Epoch 46/150\n",
      "14/14 [==============================] - 0s 2ms/step - loss: 0.4739 - accuracy: 0.8023\n",
      "Epoch 47/150\n",
      "14/14 [==============================] - 0s 2ms/step - loss: 0.4756 - accuracy: 0.7997\n",
      "Epoch 48/150\n",
      "14/14 [==============================] - 0s 3ms/step - loss: 0.4691 - accuracy: 0.8052\n",
      "Epoch 49/150\n",
      "14/14 [==============================] - 0s 2ms/step - loss: 0.4357 - accuracy: 0.8343\n",
      "Epoch 50/150\n",
      "14/14 [==============================] - 0s 2ms/step - loss: 0.4745 - accuracy: 0.8049\n",
      "Epoch 51/150\n",
      "14/14 [==============================] - 0s 2ms/step - loss: 0.4563 - accuracy: 0.8212\n",
      "Epoch 52/150\n",
      "14/14 [==============================] - 0s 2ms/step - loss: 0.4946 - accuracy: 0.7953\n",
      "Epoch 53/150\n",
      "14/14 [==============================] - 0s 2ms/step - loss: 0.4553 - accuracy: 0.8168\n",
      "Epoch 54/150\n",
      "14/14 [==============================] - 0s 2ms/step - loss: 0.4313 - accuracy: 0.8257\n",
      "Epoch 55/150\n",
      "14/14 [==============================] - 0s 2ms/step - loss: 0.4724 - accuracy: 0.8023\n",
      "Epoch 56/150\n",
      "14/14 [==============================] - 0s 3ms/step - loss: 0.4522 - accuracy: 0.8179\n",
      "Epoch 57/150\n",
      "14/14 [==============================] - 0s 2ms/step - loss: 0.4450 - accuracy: 0.8149\n",
      "Epoch 58/150\n",
      "14/14 [==============================] - 0s 2ms/step - loss: 0.4361 - accuracy: 0.8263\n",
      "Epoch 59/150\n",
      "14/14 [==============================] - 0s 2ms/step - loss: 0.4344 - accuracy: 0.8338\n",
      "Epoch 60/150\n",
      "14/14 [==============================] - 0s 2ms/step - loss: 0.4604 - accuracy: 0.8129\n",
      "Epoch 61/150\n",
      "14/14 [==============================] - 0s 2ms/step - loss: 0.4554 - accuracy: 0.8022\n",
      "Epoch 62/150\n",
      "14/14 [==============================] - 0s 2ms/step - loss: 0.4784 - accuracy: 0.7907\n",
      "Epoch 63/150\n",
      "14/14 [==============================] - 0s 2ms/step - loss: 0.4581 - accuracy: 0.8225\n",
      "Epoch 64/150\n",
      "14/14 [==============================] - 0s 2ms/step - loss: 0.4931 - accuracy: 0.7908\n",
      "Epoch 65/150\n",
      "14/14 [==============================] - 0s 2ms/step - loss: 0.4745 - accuracy: 0.7939\n",
      "Epoch 66/150\n",
      "14/14 [==============================] - 0s 2ms/step - loss: 0.4426 - accuracy: 0.8090\n",
      "Epoch 67/150\n",
      "14/14 [==============================] - 0s 2ms/step - loss: 0.4544 - accuracy: 0.8074\n",
      "Epoch 68/150\n",
      "14/14 [==============================] - 0s 2ms/step - loss: 0.3892 - accuracy: 0.8467\n",
      "Epoch 69/150\n",
      "14/14 [==============================] - 0s 2ms/step - loss: 0.4899 - accuracy: 0.7770\n",
      "Epoch 70/150\n",
      "14/14 [==============================] - 0s 2ms/step - loss: 0.4071 - accuracy: 0.8311\n",
      "Epoch 71/150\n",
      "14/14 [==============================] - 0s 2ms/step - loss: 0.4336 - accuracy: 0.8226\n",
      "Epoch 72/150\n",
      "14/14 [==============================] - 0s 2ms/step - loss: 0.4517 - accuracy: 0.8103\n",
      "Epoch 73/150\n",
      "14/14 [==============================] - 0s 2ms/step - loss: 0.3893 - accuracy: 0.8475\n",
      "Epoch 74/150\n",
      "14/14 [==============================] - 0s 2ms/step - loss: 0.3774 - accuracy: 0.8671\n",
      "Epoch 75/150\n",
      "14/14 [==============================] - 0s 2ms/step - loss: 0.4323 - accuracy: 0.8062\n",
      "Epoch 76/150\n",
      "14/14 [==============================] - 0s 3ms/step - loss: 0.4774 - accuracy: 0.8027\n",
      "Epoch 77/150\n",
      "14/14 [==============================] - 0s 2ms/step - loss: 0.4148 - accuracy: 0.8241\n",
      "Epoch 78/150\n",
      "14/14 [==============================] - 0s 2ms/step - loss: 0.4441 - accuracy: 0.8261\n",
      "Epoch 79/150\n",
      "14/14 [==============================] - 0s 2ms/step - loss: 0.4462 - accuracy: 0.8237\n",
      "Epoch 80/150\n",
      "14/14 [==============================] - 0s 2ms/step - loss: 0.4474 - accuracy: 0.8098\n",
      "Epoch 81/150\n",
      "14/14 [==============================] - 0s 2ms/step - loss: 0.4280 - accuracy: 0.8122\n",
      "Epoch 82/150\n"
     ]
    },
    {
     "name": "stdout",
     "output_type": "stream",
     "text": [
      "14/14 [==============================] - 0s 2ms/step - loss: 0.4323 - accuracy: 0.8241\n",
      "Epoch 83/150\n",
      "14/14 [==============================] - 0s 2ms/step - loss: 0.4108 - accuracy: 0.8404\n",
      "Epoch 84/150\n",
      "14/14 [==============================] - 0s 2ms/step - loss: 0.4203 - accuracy: 0.8307\n",
      "Epoch 85/150\n",
      "14/14 [==============================] - 0s 2ms/step - loss: 0.4163 - accuracy: 0.8184\n",
      "Epoch 86/150\n",
      "14/14 [==============================] - 0s 2ms/step - loss: 0.4376 - accuracy: 0.8152\n",
      "Epoch 87/150\n",
      "14/14 [==============================] - 0s 2ms/step - loss: 0.4228 - accuracy: 0.8117\n",
      "Epoch 88/150\n",
      "14/14 [==============================] - 0s 2ms/step - loss: 0.4246 - accuracy: 0.8140\n",
      "Epoch 89/150\n",
      "14/14 [==============================] - 0s 2ms/step - loss: 0.4249 - accuracy: 0.8140\n",
      "Epoch 90/150\n",
      "14/14 [==============================] - 0s 2ms/step - loss: 0.4187 - accuracy: 0.8187\n",
      "Epoch 91/150\n",
      "14/14 [==============================] - 0s 2ms/step - loss: 0.4121 - accuracy: 0.8244\n",
      "Epoch 92/150\n",
      "14/14 [==============================] - 0s 2ms/step - loss: 0.4342 - accuracy: 0.8113\n",
      "Epoch 93/150\n",
      "14/14 [==============================] - 0s 2ms/step - loss: 0.3951 - accuracy: 0.8355\n",
      "Epoch 94/150\n",
      "14/14 [==============================] - 0s 2ms/step - loss: 0.3809 - accuracy: 0.8373\n",
      "Epoch 95/150\n",
      "14/14 [==============================] - 0s 2ms/step - loss: 0.4419 - accuracy: 0.8174\n",
      "Epoch 96/150\n",
      "14/14 [==============================] - 0s 2ms/step - loss: 0.4280 - accuracy: 0.7983\n",
      "Epoch 97/150\n",
      "14/14 [==============================] - 0s 2ms/step - loss: 0.4280 - accuracy: 0.8153\n",
      "Epoch 98/150\n",
      "14/14 [==============================] - 0s 2ms/step - loss: 0.4351 - accuracy: 0.8108\n",
      "Epoch 99/150\n",
      "14/14 [==============================] - 0s 2ms/step - loss: 0.4161 - accuracy: 0.8079\n",
      "Epoch 100/150\n",
      "14/14 [==============================] - 0s 2ms/step - loss: 0.4065 - accuracy: 0.8275\n",
      "Epoch 101/150\n",
      "14/14 [==============================] - 0s 2ms/step - loss: 0.4326 - accuracy: 0.8050\n",
      "Epoch 102/150\n",
      "14/14 [==============================] - 0s 2ms/step - loss: 0.4075 - accuracy: 0.8291\n",
      "Epoch 103/150\n",
      "14/14 [==============================] - 0s 2ms/step - loss: 0.3758 - accuracy: 0.8507\n",
      "Epoch 104/150\n",
      "14/14 [==============================] - 0s 2ms/step - loss: 0.4186 - accuracy: 0.8244\n",
      "Epoch 105/150\n",
      "14/14 [==============================] - 0s 2ms/step - loss: 0.4192 - accuracy: 0.8103\n",
      "Epoch 106/150\n",
      "14/14 [==============================] - 0s 2ms/step - loss: 0.4055 - accuracy: 0.8245\n",
      "Epoch 107/150\n",
      "14/14 [==============================] - 0s 2ms/step - loss: 0.4319 - accuracy: 0.8114\n",
      "Epoch 108/150\n",
      "14/14 [==============================] - 0s 2ms/step - loss: 0.4359 - accuracy: 0.8037\n",
      "Epoch 109/150\n",
      "14/14 [==============================] - 0s 2ms/step - loss: 0.4148 - accuracy: 0.8261\n",
      "Epoch 110/150\n",
      "14/14 [==============================] - 0s 2ms/step - loss: 0.4026 - accuracy: 0.8206\n",
      "Epoch 111/150\n",
      "14/14 [==============================] - 0s 2ms/step - loss: 0.4142 - accuracy: 0.8125\n",
      "Epoch 112/150\n",
      "14/14 [==============================] - 0s 2ms/step - loss: 0.3920 - accuracy: 0.8286\n",
      "Epoch 113/150\n",
      "14/14 [==============================] - 0s 2ms/step - loss: 0.4086 - accuracy: 0.8238\n",
      "Epoch 114/150\n",
      "14/14 [==============================] - 0s 2ms/step - loss: 0.4154 - accuracy: 0.8136\n",
      "Epoch 115/150\n",
      "14/14 [==============================] - 0s 2ms/step - loss: 0.3960 - accuracy: 0.8267\n",
      "Epoch 116/150\n",
      "14/14 [==============================] - 0s 2ms/step - loss: 0.3927 - accuracy: 0.8384\n",
      "Epoch 117/150\n",
      "14/14 [==============================] - 0s 2ms/step - loss: 0.4417 - accuracy: 0.8058\n",
      "Epoch 118/150\n",
      "14/14 [==============================] - 0s 2ms/step - loss: 0.4346 - accuracy: 0.8168\n",
      "Epoch 119/150\n",
      "14/14 [==============================] - 0s 2ms/step - loss: 0.4014 - accuracy: 0.8213\n",
      "Epoch 120/150\n",
      "14/14 [==============================] - 0s 2ms/step - loss: 0.4088 - accuracy: 0.8321\n",
      "Epoch 121/150\n",
      "14/14 [==============================] - 0s 2ms/step - loss: 0.4256 - accuracy: 0.8067\n",
      "Epoch 122/150\n",
      "14/14 [==============================] - 0s 2ms/step - loss: 0.4255 - accuracy: 0.8054\n",
      "Epoch 123/150\n",
      "14/14 [==============================] - 0s 2ms/step - loss: 0.3760 - accuracy: 0.8393\n",
      "Epoch 124/150\n",
      "14/14 [==============================] - 0s 2ms/step - loss: 0.4274 - accuracy: 0.8141\n",
      "Epoch 125/150\n",
      "14/14 [==============================] - 0s 2ms/step - loss: 0.3991 - accuracy: 0.8181\n",
      "Epoch 126/150\n",
      "14/14 [==============================] - 0s 2ms/step - loss: 0.4038 - accuracy: 0.8282\n",
      "Epoch 127/150\n",
      "14/14 [==============================] - 0s 2ms/step - loss: 0.3950 - accuracy: 0.8265\n",
      "Epoch 128/150\n",
      "14/14 [==============================] - 0s 2ms/step - loss: 0.4356 - accuracy: 0.7968\n",
      "Epoch 129/150\n",
      "14/14 [==============================] - 0s 2ms/step - loss: 0.4305 - accuracy: 0.8057\n",
      "Epoch 130/150\n",
      "14/14 [==============================] - 0s 2ms/step - loss: 0.3721 - accuracy: 0.8491\n",
      "Epoch 131/150\n",
      "14/14 [==============================] - 0s 2ms/step - loss: 0.3978 - accuracy: 0.8368\n",
      "Epoch 132/150\n",
      "14/14 [==============================] - 0s 2ms/step - loss: 0.3876 - accuracy: 0.8377\n",
      "Epoch 133/150\n",
      "14/14 [==============================] - 0s 2ms/step - loss: 0.3811 - accuracy: 0.8316\n",
      "Epoch 134/150\n",
      "14/14 [==============================] - 0s 2ms/step - loss: 0.3978 - accuracy: 0.8298\n",
      "Epoch 135/150\n",
      "14/14 [==============================] - 0s 2ms/step - loss: 0.4219 - accuracy: 0.8120\n",
      "Epoch 136/150\n",
      "14/14 [==============================] - 0s 2ms/step - loss: 0.3744 - accuracy: 0.8421\n",
      "Epoch 137/150\n",
      "14/14 [==============================] - 0s 2ms/step - loss: 0.4179 - accuracy: 0.8150\n",
      "Epoch 138/150\n",
      "14/14 [==============================] - 0s 2ms/step - loss: 0.4174 - accuracy: 0.8261\n",
      "Epoch 139/150\n",
      "14/14 [==============================] - 0s 2ms/step - loss: 0.3961 - accuracy: 0.8268\n",
      "Epoch 140/150\n",
      "14/14 [==============================] - 0s 2ms/step - loss: 0.4055 - accuracy: 0.8180\n",
      "Epoch 141/150\n",
      "14/14 [==============================] - 0s 2ms/step - loss: 0.3803 - accuracy: 0.8278\n",
      "Epoch 142/150\n",
      "14/14 [==============================] - 0s 2ms/step - loss: 0.3722 - accuracy: 0.8469\n",
      "Epoch 143/150\n",
      "14/14 [==============================] - 0s 2ms/step - loss: 0.3901 - accuracy: 0.8386\n",
      "Epoch 144/150\n",
      "14/14 [==============================] - 0s 1ms/step - loss: 0.3834 - accuracy: 0.8329\n",
      "Epoch 145/150\n",
      "14/14 [==============================] - 0s 3ms/step - loss: 0.3754 - accuracy: 0.8407\n",
      "Epoch 146/150\n",
      "14/14 [==============================] - 0s 2ms/step - loss: 0.3845 - accuracy: 0.8390\n",
      "Epoch 147/150\n",
      "14/14 [==============================] - 0s 2ms/step - loss: 0.4002 - accuracy: 0.8066\n",
      "Epoch 148/150\n",
      "14/14 [==============================] - 0s 2ms/step - loss: 0.4356 - accuracy: 0.8025\n",
      "Epoch 149/150\n",
      "14/14 [==============================] - 0s 1ms/step - loss: 0.3949 - accuracy: 0.8159\n",
      "Epoch 150/150\n",
      "14/14 [==============================] - 0s 2ms/step - loss: 0.3766 - accuracy: 0.8346\n"
     ]
    },
    {
     "data": {
      "text/plain": [
       "<tensorflow.python.keras.callbacks.History at 0x2b7839c5c10>"
      ]
     },
     "execution_count": 130,
     "metadata": {},
     "output_type": "execute_result"
    }
   ],
   "source": [
    "# training ANN on training set\n",
    "ann.fit(X_train, y_train, batch_size = 32, epochs = 150)"
   ]
  },
  {
   "cell_type": "code",
   "execution_count": 131,
   "metadata": {},
   "outputs": [
    {
     "name": "stdout",
     "output_type": "stream",
     "text": [
      "[[1 1]\n",
      " [1 1]\n",
      " [1 1]\n",
      " [1 0]\n",
      " [0 1]\n",
      " [1 1]\n",
      " [0 0]\n",
      " [1 1]\n",
      " [0 0]\n",
      " [1 1]\n",
      " [1 1]\n",
      " [1 1]\n",
      " [0 0]\n",
      " [0 0]\n",
      " [1 1]\n",
      " [1 0]\n",
      " [0 0]\n",
      " [1 1]\n",
      " [1 1]\n",
      " [0 0]\n",
      " [0 1]\n",
      " [1 1]\n",
      " [1 1]\n",
      " [1 0]\n",
      " [0 1]\n",
      " [1 1]\n",
      " [1 1]\n",
      " [1 1]\n",
      " [1 1]\n",
      " [0 1]\n",
      " [1 1]\n",
      " [1 1]\n",
      " [1 1]\n",
      " [0 0]\n",
      " [1 0]\n",
      " [1 1]\n",
      " [1 0]\n",
      " [1 1]\n",
      " [0 0]\n",
      " [1 1]\n",
      " [1 1]\n",
      " [0 0]\n",
      " [0 0]\n",
      " [1 1]\n",
      " [1 1]\n",
      " [1 1]\n",
      " [1 1]\n",
      " [1 1]\n",
      " [1 0]\n",
      " [1 0]\n",
      " [1 0]\n",
      " [1 1]\n",
      " [1 1]\n",
      " [1 1]\n",
      " [1 0]\n",
      " [1 1]\n",
      " [1 1]\n",
      " [1 1]\n",
      " [1 1]\n",
      " [1 1]\n",
      " [1 1]\n",
      " [1 0]\n",
      " [1 1]\n",
      " [1 1]\n",
      " [1 1]\n",
      " [1 1]\n",
      " [1 1]\n",
      " [1 1]\n",
      " [1 1]\n",
      " [1 1]\n",
      " [0 1]\n",
      " [1 1]\n",
      " [1 1]\n",
      " [1 0]\n",
      " [1 0]\n",
      " [1 1]\n",
      " [1 1]\n",
      " [1 1]\n",
      " [1 1]\n",
      " [1 0]\n",
      " [1 1]\n",
      " [1 1]\n",
      " [1 0]\n",
      " [0 0]\n",
      " [1 1]\n",
      " [1 1]\n",
      " [0 1]\n",
      " [0 0]\n",
      " [1 0]\n",
      " [1 1]\n",
      " [1 0]\n",
      " [1 0]\n",
      " [1 0]\n",
      " [0 1]\n",
      " [1 1]\n",
      " [1 1]\n",
      " [1 1]\n",
      " [1 1]\n",
      " [1 1]\n",
      " [1 1]\n",
      " [1 1]\n",
      " [1 0]\n",
      " [1 1]\n",
      " [1 1]\n",
      " [1 1]\n",
      " [1 1]\n",
      " [1 1]\n",
      " [1 1]\n",
      " [1 1]]\n"
     ]
    }
   ],
   "source": [
    "y_pred = ann.predict(X_test)\n",
    "y_pred = (y_pred > 0.5)\n",
    "print(np.concatenate((y_pred.reshape(len(y_pred),1), y_test.reshape(len(y_test),1)),1))"
   ]
  },
  {
   "cell_type": "code",
   "execution_count": 132,
   "metadata": {},
   "outputs": [
    {
     "name": "stdout",
     "output_type": "stream",
     "text": [
      "[[12 19]\n",
      " [ 7 71]]\n"
     ]
    },
    {
     "data": {
      "text/plain": [
       "0.7614678899082569"
      ]
     },
     "execution_count": 132,
     "metadata": {},
     "output_type": "execute_result"
    }
   ],
   "source": [
    "from sklearn.metrics import confusion_matrix, accuracy_score\n",
    "cm = confusion_matrix(y_test, y_pred)\n",
    "print(cm)\n",
    "accuracy_score(y_test, y_pred)"
   ]
  },
  {
   "cell_type": "code",
   "execution_count": null,
   "metadata": {},
   "outputs": [],
   "source": []
  }
 ],
 "metadata": {
  "kernelspec": {
   "display_name": "Python 3",
   "language": "python",
   "name": "python3"
  },
  "language_info": {
   "codemirror_mode": {
    "name": "ipython",
    "version": 3
   },
   "file_extension": ".py",
   "mimetype": "text/x-python",
   "name": "python",
   "nbconvert_exporter": "python",
   "pygments_lexer": "ipython3",
   "version": "3.8.3"
  }
 },
 "nbformat": 4,
 "nbformat_minor": 4
}
